{
 "cells": [
  {
   "cell_type": "code",
   "execution_count": 1,
   "metadata": {},
   "outputs": [],
   "source": [
    "class details():\n",
    "    def __init__(self):\n",
    "        self.s=int(input(\"enter s\"))\n",
    "        self.a=int(input(\"enter a\"))\n",
    "        self.b=int(input(\"enter b\"))\n",
    "        self.c=int(input(\"enter c\"))\n",
    "class triangle(details):\n",
    "    def area(self):\n",
    "        triangle_area=(self.s*(self.s-self.a)*(self.s-self.b)*(self.s-self.c))**0.5\n",
    "        print(\"area of triangle : \",round(triangle_area,2))\n",
    "        "
   ]
  },
  {
   "cell_type": "code",
   "execution_count": 2,
   "metadata": {},
   "outputs": [
    {
     "name": "stdout",
     "output_type": "stream",
     "text": [
      "enter s20\n",
      "enter a10\n",
      "enter b5\n",
      "enter c3\n",
      "area of triangle :  225.83\n"
     ]
    }
   ],
   "source": [
    "t=triangle()\n",
    "t.area()"
   ]
  },
  {
   "cell_type": "code",
   "execution_count": 3,
   "metadata": {},
   "outputs": [],
   "source": [
    "def filter_long_word():\n",
    "    words=input().split()\n",
    "    n=int(input(\"enetr lenth n\"))\n",
    "    l=[word for word in words if len(word) > n]\n",
    "    print(l)"
   ]
  },
  {
   "cell_type": "code",
   "execution_count": 4,
   "metadata": {},
   "outputs": [
    {
     "name": "stdout",
     "output_type": "stream",
     "text": [
      "pradiip sanjay karthi prem kodi bharath anand aanand chandru ragul \n",
      "enetr lenth n6\n",
      "['pradiip', 'bharath', 'chandru']\n"
     ]
    }
   ],
   "source": [
    "filter_long_word()"
   ]
  },
  {
   "cell_type": "code",
   "execution_count": null,
   "metadata": {},
   "outputs": [],
   "source": []
  }
 ],
 "metadata": {
  "kernelspec": {
   "display_name": "Python 3",
   "language": "python",
   "name": "python3"
  },
  "language_info": {
   "codemirror_mode": {
    "name": "ipython",
    "version": 3
   },
   "file_extension": ".py",
   "mimetype": "text/x-python",
   "name": "python",
   "nbconvert_exporter": "python",
   "pygments_lexer": "ipython3",
   "version": "3.7.6"
  }
 },
 "nbformat": 4,
 "nbformat_minor": 4
}
