{
 "cells": [
  {
   "cell_type": "code",
   "execution_count": 1,
   "metadata": {},
   "outputs": [],
   "source": [
    "def my_reduce():\n",
    "    l1=[]\n",
    "    sum=0\n",
    "    l=[int(x) for x in input().split()]\n",
    "    for i in l:\n",
    "        sum+=i\n",
    "    print(\"sum : \",sum)"
   ]
  },
  {
   "cell_type": "code",
   "execution_count": 2,
   "metadata": {},
   "outputs": [
    {
     "name": "stdout",
     "output_type": "stream",
     "text": [
      "1 23 4 54 6 67 45\n",
      "sum :  200\n"
     ]
    }
   ],
   "source": [
    "my_reduce()"
   ]
  },
  {
   "cell_type": "code",
   "execution_count": 3,
   "metadata": {},
   "outputs": [],
   "source": [
    "def my_filter():\n",
    "    l1=[]\n",
    "    l=[int(x) for x in input().split()]\n",
    "    for i in l:\n",
    "        if(i%2==0):\n",
    "            l1.append(i)\n",
    "    print(\"enen numbers : \",l1)"
   ]
  },
  {
   "cell_type": "code",
   "execution_count": 4,
   "metadata": {},
   "outputs": [
    {
     "name": "stdout",
     "output_type": "stream",
     "text": [
      "224 35 53 55 24 5 35 2 1\n",
      "enen numbers :  [224, 24, 2]\n"
     ]
    }
   ],
   "source": [
    "my_filter()"
   ]
  },
  {
   "cell_type": "code",
   "execution_count": null,
   "metadata": {},
   "outputs": [],
   "source": []
  }
 ],
 "metadata": {
  "kernelspec": {
   "display_name": "Python 3",
   "language": "python",
   "name": "python3"
  },
  "language_info": {
   "codemirror_mode": {
    "name": "ipython",
    "version": 3
   },
   "file_extension": ".py",
   "mimetype": "text/x-python",
   "name": "python",
   "nbconvert_exporter": "python",
   "pygments_lexer": "ipython3",
   "version": "3.7.6"
  }
 },
 "nbformat": 4,
 "nbformat_minor": 4
}
